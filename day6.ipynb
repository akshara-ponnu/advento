{
 "cells": [
  {
   "cell_type": "code",
   "execution_count": 12,
   "id": "847a13a1",
   "metadata": {},
   "outputs": [
    {
     "name": "stdout",
     "output_type": "stream",
     "text": [
      "For buffer 1,   1640\n"
     ]
    }
   ],
   "source": [
    "#day 6 part 1\n",
    "def find_start_of_packet(b):\n",
    "    for i in range(3, len(b)):\n",
    "        if len(set(buffer[i-3:i+1])) == 4:\n",
    "            return i + 1  # Return the position if marker is complete\n",
    "    return -1  # Return -1 if no marker is found\n",
    "\n",
    "# File path\n",
    "file_path = r\"C:\\Users\\AKSHARA\\Downloads\\buf.txt\"\n",
    "\n",
    " # read and split into  buffers\n",
    "with open(file_path, 'r') as file:\n",
    "    bufs = file.read().strip().split('\\n')\n",
    "\n",
    "# Iterate through each buffer and find the position  \n",
    "for idx, b in enumerate(bufs, start=1):\n",
    "    result = find_start_of_packet(b)\n",
    "    if result != -1:\n",
    "        print(f\"For buffer {idx},   {result}\")\n",
    "    else:\n",
    "        print(f\"For buffer {idx}, no marker is found.\")\n"
   ]
  },
  {
   "cell_type": "code",
   "execution_count": 13,
   "id": "2dabcef2",
   "metadata": {},
   "outputs": [
    {
     "name": "stdout",
     "output_type": "stream",
     "text": [
      "For buffer 1 , 3613\n"
     ]
    }
   ],
   "source": [
    "def find_start_of_marker(b, marker_length):\n",
    "    for i in range(marker_length - 1, len(buffer)):\n",
    "        if len(set(b[i - marker_length + 1 : i + 1])) == marker_length:\n",
    "            return i + 1  # Return the position  if marker is complete\n",
    "    return -1  # Return -1 if no marker is found\n",
    "\n",
    "# File path\n",
    "file_path = r\"C:\\Users\\AKSHARA\\Downloads\\buf.txt\"\n",
    "\n",
    "# Read and split into datastream buffers\n",
    "with open(file_path, 'r') as file:\n",
    "    bufs = file.read().strip().split('\\n')\n",
    "\n",
    "# Marker length for start-of-message\n",
    "message_marker_length = 14\n",
    "\n",
    "# Iterate through each buffer and find the position \n",
    "for idx, b in enumerate(bufs, start=1):\n",
    "    result = find_start_of_marker(b, message_marker_length)\n",
    "    if result != -1:\n",
    "        print(f\"For buffer {idx} , {result}\")\n",
    "    else:\n",
    "        print(f\"For buffer {idx}, no message marker is found.\")\n"
   ]
  }
 ],
 "metadata": {
  "kernelspec": {
   "display_name": "Python 3 (ipykernel)",
   "language": "python",
   "name": "python3"
  },
  "language_info": {
   "codemirror_mode": {
    "name": "ipython",
    "version": 3
   },
   "file_extension": ".py",
   "mimetype": "text/x-python",
   "name": "python",
   "nbconvert_exporter": "python",
   "pygments_lexer": "ipython3",
   "version": "3.8.16"
  }
 },
 "nbformat": 4,
 "nbformat_minor": 5
}
